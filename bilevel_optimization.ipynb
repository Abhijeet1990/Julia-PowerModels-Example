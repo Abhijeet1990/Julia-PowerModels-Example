{
 "cells": [
  {
   "cell_type": "code",
   "execution_count": 1,
   "metadata": {},
   "outputs": [
    {
     "name": "stderr",
     "output_type": "stream",
     "text": [
      "┌ Info: Precompiling BilevelOptimization [98803d92-2a2a-5e5c-9642-fb423c87776e]\n",
      "└ @ Base loading.jl:1260\n"
     ]
    }
   ],
   "source": [
    "using JuMP\n",
    "using BilevelOptimization"
   ]
  },
  {
   "cell_type": "code",
   "execution_count": 2,
   "metadata": {},
   "outputs": [
    {
     "data": {
      "text/plain": [
       "2-element Array{Float64,1}:\n",
       " -3.0\n",
       " 30.0"
      ]
     },
     "execution_count": 2,
     "metadata": {},
     "output_type": "execute_result"
    }
   ],
   "source": [
    "# problem taken from:\n",
    "# A.G. Mersha, S. Dempe,\n",
    "# Linear bilevel programming with upper-level constraints depending on lower-level solution.\n",
    "# Appl. Math. Computation (180), 2006\n",
    "cx = [-1.]\n",
    "cy = [-2.]\n",
    "G = zeros(2,1) .+ [-2.,1.]\n",
    "H = zeros(2,1) .+ [3.,1.]\n",
    "q = [12.,14.]\n",
    "d = [-1.]\n",
    "A = zeros(2,1) .+ [-3.,3.]\n",
    "B = ones(2,1)\n",
    "b = [-3.,30.]"
   ]
  },
  {
   "cell_type": "code",
   "execution_count": 3,
   "metadata": {},
   "outputs": [
    {
     "data": {
      "text/plain": [
       "BilevelLP{Array{Float64,1},Array{Float64,2},Array{Float64,2},Array{Bool,1}}([-1.0], [-2.0], [-2.0; 1.0], [3.0; 1.0], [12.0, 14.0], [-1.0], [-3.0; 3.0], [1.0; 1.0], [-3.0, 30.0], 1, 1, 2, 2, [0.0], [Inf], Bool[1], [Inf], Int64[], [0.0])"
      ]
     },
     "execution_count": 3,
     "metadata": {},
     "output_type": "execute_result"
    }
   ],
   "source": [
    "prob = BilevelLP(\n",
    "        cx, cy,\n",
    "        G, H, q,\n",
    "        d, A, B, b\n",
    "    )"
   ]
  },
  {
   "cell_type": "code",
   "execution_count": 5,
   "metadata": {},
   "outputs": [
    {
     "name": "stderr",
     "output_type": "stream",
     "text": [
      "┌ Info: Precompiling Cbc [9961bab8-2fa3-5c5a-9d89-47fab24efd76]\n",
      "└ @ Base loading.jl:1260\n"
     ]
    }
   ],
   "source": [
    "using Cbc"
   ]
  },
  {
   "cell_type": "code",
   "execution_count": 6,
   "metadata": {},
   "outputs": [
    {
     "data": {
      "text/plain": [
       "(A JuMP Model\n",
       "Minimization problem with:\n",
       "Variables: 7\n",
       "Objective function type: GenericAffExpr{Float64,VariableRef}\n",
       "`GenericAffExpr{Float64,VariableRef}`-in-`MathOptInterface.EqualTo{Float64}`: 3 constraints\n",
       "`GenericAffExpr{Float64,VariableRef}`-in-`MathOptInterface.LessThan{Float64}`: 2 constraints\n",
       "`Array{VariableRef,1}`-in-`MathOptInterface.SOS1{Float64}`: 3 constraints\n",
       "`VariableRef`-in-`MathOptInterface.GreaterThan{Float64}`: 7 constraints\n",
       "`VariableRef`-in-`MathOptInterface.LessThan{Float64}`: 1 constraint\n",
       "Model mode: AUTOMATIC\n",
       "CachingOptimizer state: EMPTY_OPTIMIZER\n",
       "Solver name: COIN Branch-and-Cut (Cbc)\n",
       "Names registered in the model: lowercons, nonnegative_sos_constraints, rhs_sos_constraints, s, uppercons, x, y, λ, σ, VariableRef[x[1]], VariableRef[y[1]], VariableRef[λ[1], λ[2]], VariableRef[s[1], s[2]])"
      ]
     },
     "execution_count": 6,
     "metadata": {},
     "output_type": "execute_result"
    }
   ],
   "source": [
    "(m, x, y, λ, _) = build_blp_model(prob, optimizer_with_attributes(Cbc.Optimizer, \"LogLevel\" => 0))"
   ]
  },
  {
   "cell_type": "code",
   "execution_count": 7,
   "metadata": {},
   "outputs": [
    {
     "name": "stdout",
     "output_type": "stream",
     "text": [
      "Cbc3007W No integer variables - nothing to do\n",
      "Welcome to the CBC MILP Solver \n",
      "Version: 2.10.3 \n",
      "Build Date: Jan  1 1970 \n",
      "\n",
      "command line - Cbc_C_Interface -LogLevel 0 -solve -quit (default strategy 1)\n"
     ]
    }
   ],
   "source": [
    "JuMP.optimize!(m)"
   ]
  },
  {
   "cell_type": "code",
   "execution_count": 8,
   "metadata": {},
   "outputs": [
    {
     "name": "stdout",
     "output_type": "stream",
     "text": [
      "Optimal Solutions:\n",
      "x1 = 8.0\n",
      "y1 = 5.999999999999999\n"
     ]
    }
   ],
   "source": [
    "# Printing the optimal solutions obtained\n",
    "println(\"Optimal Solutions:\")\n",
    "println(\"x1 = \",JuMP.value(x[1]))\n",
    "println(\"y1 = \",JuMP.value(y[1]))\n"
   ]
  },
  {
   "cell_type": "code",
   "execution_count": 9,
   "metadata": {},
   "outputs": [
    {
     "data": {
      "text/plain": [
       "1-element Array{Float64,1}:\n",
       " 0.0"
      ]
     },
     "execution_count": 9,
     "metadata": {},
     "output_type": "execute_result"
    }
   ],
   "source": [
    "# Example 2\n",
    "# problem taken from:\n",
    "# Bilevel Programming Problems\n",
    "# S. Dempe, V. Kalashnikov, G. Pérez-Valdés, N. Kalashnykova\n",
    "# Springer 2015\n",
    "cx = [2.,1.]\n",
    "cy = [2.,-1.]\n",
    "G = zeros(0,2)\n",
    "H = zeros(0,2)\n",
    "q = Float64[]\n",
    "d = [0.,0.]\n",
    "F = [1. 0.;0. 1.]\n",
    "A = zeros(1,2)\n",
    "B = [-2. 1.]\n",
    "b = [0.]"
   ]
  },
  {
   "cell_type": "code",
   "execution_count": 10,
   "metadata": {},
   "outputs": [
    {
     "data": {
      "text/plain": [
       "BilevelLP{Array{Float64,1},Array{Float64,2},Array{Float64,2},Array{Bool,1}}([2.0, 1.0], [2.0, -1.0], Array{Float64}(undef,0,2), Array{Float64}(undef,0,2), Float64[], [0.0, 0.0], [0.0 0.0], [-2.0 1.0], [0.0], 2, 2, 0, 1, [0.0, 0.0], [Inf, Inf], Bool[1, 1], [Inf, Inf], Int64[], [1.0 0.0; 0.0 1.0])"
      ]
     },
     "execution_count": 10,
     "metadata": {},
     "output_type": "execute_result"
    }
   ],
   "source": [
    "prob = BilevelLP(\n",
    "        cx, cy,\n",
    "        G, H, q,\n",
    "        d, A, B, b, Int[], F\n",
    "    )"
   ]
  },
  {
   "cell_type": "code",
   "execution_count": 11,
   "metadata": {},
   "outputs": [
    {
     "data": {
      "text/plain": [
       "3"
      ]
     },
     "execution_count": 11,
     "metadata": {},
     "output_type": "execute_result"
    }
   ],
   "source": [
    "set_lower_bound(prob, BilevelOptimization.upper, 1, -1.)\n",
    "setupperbound(prob, BilevelOptimization.upper, 1, 1.)\n",
    "set_lower_bound(prob, BilevelOptimization.upper, 2, -1.)\n",
    "setupperbound(prob, BilevelOptimization.upper, 2, -0.75)\n",
    "set_lower_bound(prob, BilevelOptimization.lower, 1, -Inf64)\n",
    "setupperbound(prob, BilevelOptimization.lower, 1, 2.)\n",
    "set_lower_bound(prob, BilevelOptimization.lower, 2, 0.)\n",
    "setupperbound(prob, BilevelOptimization.lower, 2, 2.)"
   ]
  },
  {
   "cell_type": "code",
   "execution_count": 12,
   "metadata": {},
   "outputs": [
    {
     "data": {
      "text/plain": [
       "(A JuMP Model\n",
       "Minimization problem with:\n",
       "Variables: 12\n",
       "Objective function type: GenericAffExpr{Float64,VariableRef}\n",
       "`GenericAffExpr{Float64,VariableRef}`-in-`MathOptInterface.EqualTo{Float64}`: 6 constraints\n",
       "`Array{VariableRef,1}`-in-`MathOptInterface.SOS1{Float64}`: 5 constraints\n",
       "`VariableRef`-in-`MathOptInterface.GreaterThan{Float64}`: 11 constraints\n",
       "`VariableRef`-in-`MathOptInterface.LessThan{Float64}`: 2 constraints\n",
       "Model mode: AUTOMATIC\n",
       "CachingOptimizer state: EMPTY_OPTIMIZER\n",
       "Solver name: COIN Branch-and-Cut (Cbc)\n",
       "Names registered in the model: lowercons, nonnegative_sos_constraints, rhs_sos_constraints, s, uppercons, x, y, λ, σ, VariableRef[x[1], x[2]], VariableRef[y[1], y[2]], VariableRef[λ[1], λ[2], λ[3]], VariableRef[s[1], s[2], s[3]])"
      ]
     },
     "execution_count": 12,
     "metadata": {},
     "output_type": "execute_result"
    }
   ],
   "source": [
    "(m, x, y, λ, _) = build_blp_model(prob, optimizer_with_attributes(Cbc.Optimizer, \"LogLevel\" => 0))"
   ]
  },
  {
   "cell_type": "code",
   "execution_count": 13,
   "metadata": {},
   "outputs": [
    {
     "name": "stdout",
     "output_type": "stream",
     "text": [
      "Cbc3007W No integer variables - nothing to do\n",
      "Welcome to the CBC MILP Solver \n",
      "Version: 2.10.3 \n",
      "Build Date: Jan  1 1970 \n",
      "\n",
      "command line - Cbc_C_Interface -LogLevel 0 -solve -quit (default strategy 1)\n",
      "3 relaxed row infeasibilities - summing to 4\n",
      "3 relaxed row infeasibilities - summing to 4\n",
      "3 relaxed row infeasibilities - summing to 4\n"
     ]
    }
   ],
   "source": [
    " JuMP.optimize!(m)"
   ]
  },
  {
   "cell_type": "code",
   "execution_count": 14,
   "metadata": {},
   "outputs": [
    {
     "name": "stdout",
     "output_type": "stream",
     "text": [
      "Optimal Solutions:\n",
      "x1 = -1.0\n",
      "x2 = -1.0\n"
     ]
    }
   ],
   "source": [
    "# Printing the optimal solutions obtained\n",
    "println(\"Optimal Solutions:\")\n",
    "println(\"x1 = \",JuMP.value(x[1]))\n",
    "println(\"x2 = \",JuMP.value(x[2]))"
   ]
  },
  {
   "cell_type": "code",
   "execution_count": null,
   "metadata": {},
   "outputs": [],
   "source": []
  },
  {
   "cell_type": "code",
   "execution_count": null,
   "metadata": {},
   "outputs": [],
   "source": []
  }
 ],
 "metadata": {
  "kernelspec": {
   "display_name": "Julia 1.4.2",
   "language": "julia",
   "name": "julia-1.4"
  },
  "language_info": {
   "file_extension": ".jl",
   "mimetype": "application/julia",
   "name": "julia",
   "version": "1.4.2"
  }
 },
 "nbformat": 4,
 "nbformat_minor": 4
}
