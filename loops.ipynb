{
 "cells": [
  {
   "cell_type": "code",
   "execution_count": 1,
   "metadata": {},
   "outputs": [
    {
     "name": "stdout",
     "output_type": "stream",
     "text": [
      "List Iteration\n",
      "geeks\n",
      "for\n",
      "geeks\n",
      "\n",
      "Tuple Iteration\n",
      "geeks\n",
      "for\n",
      "geeks\n",
      "\n",
      "String Iteration\n",
      "G\n",
      "e\n",
      "e\n",
      "k\n",
      "s\n"
     ]
    }
   ],
   "source": [
    "# Julia program to illustrate \n",
    "# the use of For loop \n",
    "\n",
    "print(\"List Iteration\\n\") \n",
    "l = [\"geeks\", \"for\", \"geeks\"] \n",
    "for i in l \n",
    "\tprintln(i) \n",
    "end \n",
    "\n",
    "# Iterating over a tuple (immutable) \n",
    "print(\"\\nTuple Iteration\\n\") \n",
    "t = (\"geeks\", \"for\", \"geeks\") \n",
    "for i in t \n",
    "\tprintln(i) \n",
    "end \n",
    "\n",
    "# Iterating over a String \n",
    "print(\"\\nString Iteration\\n\")\t \n",
    "s = \"Geeks\"\n",
    "for i in s \n",
    "\tprintln(i) \n",
    "end \n"
   ]
  }
 ],
 "metadata": {
  "kernelspec": {
   "display_name": "Julia 1.4.2",
   "language": "julia",
   "name": "julia-1.4"
  },
  "language_info": {
   "file_extension": ".jl",
   "mimetype": "application/julia",
   "name": "julia",
   "version": "1.4.2"
  }
 },
 "nbformat": 4,
 "nbformat_minor": 4
}
