{
 "cells": [
  {
   "cell_type": "code",
   "execution_count": 1,
   "metadata": {},
   "outputs": [],
   "source": [
    "\n",
    "using PowerModels\n",
    "using JuMP\n",
    "using Ipopt"
   ]
  },
  {
   "cell_type": "code",
   "execution_count": 2,
   "metadata": {},
   "outputs": [
    {
     "data": {
      "text/plain": [
       "PowerModels"
      ]
     },
     "execution_count": 2,
     "metadata": {},
     "output_type": "execute_result"
    }
   ],
   "source": [
    "const PMs =PowerModels"
   ]
  },
  {
   "cell_type": "code",
   "execution_count": 7,
   "metadata": {},
   "outputs": [
    {
     "data": {
      "text/plain": [
       "minimize_load_shed (generic function with 1 method)"
      ]
     },
     "execution_count": 7,
     "metadata": {},
     "output_type": "execute_result"
    }
   ],
   "source": [
    "function minimize_load_shed(data,solver)\n",
    "    \n",
    "    # extract the reference for the data\n",
    "    ref = PMs.build_ref(data)[:nw][0]\n",
    "    model = Model(with_optimizer(solver))\n",
    "\n",
    "    \n",
    "    load_index=Int64[]\n",
    "    for(i,load) in ref[:load]\n",
    "        push!(load_index,load[\"load_bus\"])\n",
    "    end\n",
    "    \n",
    "    gen_index=Int64[]\n",
    "    for(i,gen) in ref[:gen]\n",
    "        #print(gen)\n",
    "        push!(gen_index,gen[\"gen_bus\"])\n",
    "    end\n",
    "    \n",
    "    branch_count = length(ref[:branch])\n",
    "    bus_count = length(ref[:bus])\n",
    "    gen_count = length(ref[:gen])\n",
    "    load_count = length(ref[:load])\n",
    "    \n",
    "    @variables(model,begin\n",
    "            p_k[i=1:branch_count]\n",
    "            trans_k[i=1:branch_count]\n",
    "            p_g[i=1:bus_count]\n",
    "            p_l[i=1:bus_count]\n",
    "            p_b_LS[i=1:bus_count]>=0\n",
    "            theta_b[i=1:bus_count]\n",
    "            end)\n",
    "    \n",
    "    # define objective function.. minimization of load shedding\n",
    "    @objective(model, Min, sum(p_b_LS[i] for i in 1:bus_count))\n",
    "    \n",
    "    # voltage angle at all bus within -pi to +pi\n",
    "    for i in 1:bus_count\n",
    "       @constraint(model, theta_b[i] <= pi)\n",
    "       @constraint(model, theta_b[i] >= -pi)\n",
    "    end\n",
    "    \n",
    "    #flow equality constraint\n",
    "    for (i,branch) in ref[:branch]\n",
    "        from_index = branch[\"f_bus\"]\n",
    "        to_index = branch[\"t_bus\"]\n",
    "        @constraint(model, p_k[i] == branch[\"b_fr\"]*(theta_b[from_index] - theta_b[to_index]))\n",
    "    end\n",
    "    \n",
    "    #branch limits\n",
    "    for (i,branch) in ref[:branch]\n",
    "       @constraint(model, p_k[i] <= branch[\"rateA\"][i])\n",
    "       @constraint(model, p_k[i] >= -branch[\"rateA\"][i])\n",
    "    end\n",
    "    \n",
    "    # generator limit constraints\n",
    "    for (i,gen) in ref[:gen]\n",
    "        @constraint(model, p_g[gen[\"gen_bus\"]] <= gen[\"pmax\"])\n",
    "        @constraint(model, p_g[gen[\"gen_bus\"]] >= gen[\"pmin\"])\n",
    "    end\n",
    "    \n",
    "    # load shedding constraint\n",
    "    for (i,load) in ref[:load]\n",
    "        @constraint(model,p_b_LS[load[\"load_bus\"]] <= load[\"pd\"])\n",
    "        @constraint(model,p_l[load[\"load_bus\"]] == load[\"pd\"])\n",
    "    end\n",
    "    \n",
    "    # set p_g zero for all non-gen bus\n",
    "    for i in 1:bus_count\n",
    "        if (!(i in gen_index))\n",
    "            @constraint(model,p_g[i]==0)\n",
    "        end\n",
    "    end\n",
    "    \n",
    "    # set p_l zero for all non-gen bus\n",
    "    for i in 1:bus_count\n",
    "        if (!(i in load_index))\n",
    "            @constraint(model,p_l[i]==0)\n",
    "            @constraint(model,p_b_LS[i]==0)\n",
    "        end\n",
    "    end\n",
    "    \n",
    "    # power balance constraint\n",
    "    for (i,bus) in ref[:bus]\n",
    "        out_branch =[]\n",
    "        in_branch =[]\n",
    "        for (j,branch) in ref[:branch]\n",
    "            if (branch[\"f_bus\"] == bus[\"index\"])\n",
    "                push!(out_branch,branch[\"f_bus\"])\n",
    "            elseif (branch[\"t_bus\"] == bus[\"index\"])\n",
    "                push!(in_branch,branch[\"t_bus\"])\n",
    "            end\n",
    "        end\n",
    "        @constraint(model, (p_g[i] - sum(p_k[k] for k in out_branch) + sum(p_k[j] for j in in_branch))\n",
    "            <= (p_l[i] - p_b_LS[i]) )\n",
    "    end\n",
    "\n",
    "     # Solve statement\n",
    "    optimize!(model)\n",
    "    \n",
    "    return(\n",
    "        soln =value.(p_b_LS),\n",
    "        new_gen =value.(p_g),\n",
    "        theta =value.(theta_b),\n",
    "        line_flow =value.(p_k),\n",
    "        load =value.(p_l),\n",
    "        loadshed = objective_value(model)\n",
    "    )\n",
    "end"
   ]
  },
  {
   "cell_type": "code",
   "execution_count": 8,
   "metadata": {},
   "outputs": [
    {
     "name": "stdout",
     "output_type": "stream",
     "text": [
      "\u001b[35m[warn | PowerModels]: this code only supports angmin values in -90 deg. to 90 deg., tightening the value on branch 4 from -360.0 to -60.0 deg.\u001b[39m\n",
      "\u001b[35m[warn | PowerModels]: this code only supports angmax values in -90 deg. to 90 deg., tightening the value on branch 4 from 360.0 to 60.0 deg.\u001b[39m\n",
      "\u001b[35m[warn | PowerModels]: this code only supports angmin values in -90 deg. to 90 deg., tightening the value on branch 1 from -360.0 to -60.0 deg.\u001b[39m\n",
      "\u001b[35m[warn | PowerModels]: this code only supports angmax values in -90 deg. to 90 deg., tightening the value on branch 1 from 360.0 to 60.0 deg.\u001b[39m\n",
      "\u001b[35m[warn | PowerModels]: this code only supports angmin values in -90 deg. to 90 deg., tightening the value on branch 12 from -360.0 to -60.0 deg.\u001b[39m\n",
      "\u001b[35m[warn | PowerModels]: this code only supports angmax values in -90 deg. to 90 deg., tightening the value on branch 12 from 360.0 to 60.0 deg.\u001b[39m\n",
      "\u001b[35m[warn | PowerModels]: this code only supports angmin values in -90 deg. to 90 deg., tightening the value on branch 20 from -360.0 to -60.0 deg.\u001b[39m\n",
      "\u001b[35m[warn | PowerModels]: this code only supports angmax values in -90 deg. to 90 deg., tightening the value on branch 20 from 360.0 to 60.0 deg.\u001b[39m\n",
      "\u001b[35m[warn | PowerModels]: this code only supports angmin values in -90 deg. to 90 deg., tightening the value on branch 2 from -360.0 to -60.0 deg.\u001b[39m\n",
      "\u001b[35m[warn | PowerModels]: this code only supports angmax values in -90 deg. to 90 deg., tightening the value on branch 2 from 360.0 to 60.0 deg.\u001b[39m\n",
      "\u001b[35m[warn | PowerModels]: this code only supports angmin values in -90 deg. to 90 deg., tightening the value on branch 6 from -360.0 to -60.0 deg.\u001b[39m\n",
      "\u001b[35m[warn | PowerModels]: this code only supports angmax values in -90 deg. to 90 deg., tightening the value on branch 6 from 360.0 to 60.0 deg.\u001b[39m\n",
      "\u001b[35m[warn | PowerModels]: this code only supports angmin values in -90 deg. to 90 deg., tightening the value on branch 11 from -360.0 to -60.0 deg.\u001b[39m\n",
      "\u001b[35m[warn | PowerModels]: this code only supports angmax values in -90 deg. to 90 deg., tightening the value on branch 11 from 360.0 to 60.0 deg.\u001b[39m\n",
      "\u001b[35m[warn | PowerModels]: this code only supports angmin values in -90 deg. to 90 deg., tightening the value on branch 13 from -360.0 to -60.0 deg.\u001b[39m\n",
      "\u001b[35m[warn | PowerModels]: this code only supports angmax values in -90 deg. to 90 deg., tightening the value on branch 13 from 360.0 to 60.0 deg.\u001b[39m\n",
      "\u001b[35m[warn | PowerModels]: this code only supports angmin values in -90 deg. to 90 deg., tightening the value on branch 5 from -360.0 to -60.0 deg.\u001b[39m\n",
      "\u001b[35m[warn | PowerModels]: this code only supports angmax values in -90 deg. to 90 deg., tightening the value on branch 5 from 360.0 to 60.0 deg.\u001b[39m\n",
      "\u001b[35m[warn | PowerModels]: this code only supports angmin values in -90 deg. to 90 deg., tightening the value on branch 15 from -360.0 to -60.0 deg.\u001b[39m\n",
      "\u001b[35m[warn | PowerModels]: this code only supports angmax values in -90 deg. to 90 deg., tightening the value on branch 15 from 360.0 to 60.0 deg.\u001b[39m\n",
      "\u001b[35m[warn | PowerModels]: this code only supports angmin values in -90 deg. to 90 deg., tightening the value on branch 16 from -360.0 to -60.0 deg.\u001b[39m\n",
      "\u001b[35m[warn | PowerModels]: this code only supports angmax values in -90 deg. to 90 deg., tightening the value on branch 16 from 360.0 to 60.0 deg.\u001b[39m\n",
      "\u001b[35m[warn | PowerModels]: this code only supports angmin values in -90 deg. to 90 deg., tightening the value on branch 14 from -360.0 to -60.0 deg.\u001b[39m\n",
      "\u001b[35m[warn | PowerModels]: this code only supports angmax values in -90 deg. to 90 deg., tightening the value on branch 14 from 360.0 to 60.0 deg.\u001b[39m\n",
      "\u001b[35m[warn | PowerModels]: this code only supports angmin values in -90 deg. to 90 deg., tightening the value on branch 7 from -360.0 to -60.0 deg.\u001b[39m\n",
      "\u001b[35m[warn | PowerModels]: this code only supports angmax values in -90 deg. to 90 deg., tightening the value on branch 7 from 360.0 to 60.0 deg.\u001b[39m\n",
      "\u001b[35m[warn | PowerModels]: this code only supports angmin values in -90 deg. to 90 deg., tightening the value on branch 8 from -360.0 to -60.0 deg.\u001b[39m\n",
      "\u001b[35m[warn | PowerModels]: this code only supports angmax values in -90 deg. to 90 deg., tightening the value on branch 8 from 360.0 to 60.0 deg.\u001b[39m\n",
      "\u001b[35m[warn | PowerModels]: this code only supports angmin values in -90 deg. to 90 deg., tightening the value on branch 17 from -360.0 to -60.0 deg.\u001b[39m\n",
      "\u001b[35m[warn | PowerModels]: this code only supports angmax values in -90 deg. to 90 deg., tightening the value on branch 17 from 360.0 to 60.0 deg.\u001b[39m\n",
      "\u001b[35m[warn | PowerModels]: this code only supports angmin values in -90 deg. to 90 deg., tightening the value on branch 10 from -360.0 to -60.0 deg.\u001b[39m\n",
      "\u001b[35m[warn | PowerModels]: this code only supports angmax values in -90 deg. to 90 deg., tightening the value on branch 10 from 360.0 to 60.0 deg.\u001b[39m\n",
      "\u001b[35m[warn | PowerModels]: this code only supports angmin values in -90 deg. to 90 deg., tightening the value on branch 19 from -360.0 to -60.0 deg.\u001b[39m\n",
      "\u001b[35m[warn | PowerModels]: this code only supports angmax values in -90 deg. to 90 deg., tightening the value on branch 19 from 360.0 to 60.0 deg.\u001b[39m\n",
      "\u001b[35m[warn | PowerModels]: this code only supports angmin values in -90 deg. to 90 deg., tightening the value on branch 9 from -360.0 to -60.0 deg.\u001b[39m\n",
      "\u001b[35m[warn | PowerModels]: this code only supports angmax values in -90 deg. to 90 deg., tightening the value on branch 9 from 360.0 to 60.0 deg.\u001b[39m\n",
      "\u001b[35m[warn | PowerModels]: this code only supports angmin values in -90 deg. to 90 deg., tightening the value on branch 18 from -360.0 to -60.0 deg.\u001b[39m\n",
      "\u001b[35m[warn | PowerModels]: this code only supports angmax values in -90 deg. to 90 deg., tightening the value on branch 18 from 360.0 to 60.0 deg.\u001b[39m\n",
      "\u001b[35m[warn | PowerModels]: this code only supports angmin values in -90 deg. to 90 deg., tightening the value on branch 3 from -360.0 to -60.0 deg.\u001b[39m\n",
      "\u001b[35m[warn | PowerModels]: this code only supports angmax values in -90 deg. to 90 deg., tightening the value on branch 3 from 360.0 to 60.0 deg.\u001b[39m\n",
      "\u001b[35m[warn | PowerModels]: active generators found at bus 8, updating to bus type from 1 to 2\u001b[39m\n",
      "\u001b[32m[info | PowerModels]: removing 2 cost terms from generator 4: [100.0, 4000.0, 0.0]\u001b[39m\n",
      "\u001b[32m[info | PowerModels]: removing 2 cost terms from generator 1: [430.292599, 2000.0, 0.0]\u001b[39m\n",
      "\u001b[32m[info | PowerModels]: removing 2 cost terms from generator 5: [100.0, 4000.0, 0.0]\u001b[39m\n",
      "\u001b[32m[info | PowerModels]: removing 2 cost terms from generator 2: [2500.0, 2000.0, 0.0]\u001b[39m\n",
      "\u001b[32m[info | PowerModels]: removing 2 cost terms from generator 3: [100.0, 4000.0, 0.0]\u001b[39m\n",
      "gen 4 out:\n"
     ]
    },
    {
     "name": "stderr",
     "output_type": "stream",
     "text": [
      "┌ Warning: `with_optimizer` is deprecated. Adapt the following example to update your code:\n",
      "│ `with_optimizer(Ipopt.Optimizer)` becomes `Ipopt.Optimizer`.\n",
      "│   caller = minimize_load_shed(::Dict{String,Any}, ::MathOptInterface.OptimizerWithAttributes) at In[7]:5\n",
      "└ @ Main .\\In[7]:5\n"
     ]
    },
    {
     "ename": "KeyError",
     "evalue": "KeyError: key \"rateA\" not found",
     "output_type": "error",
     "traceback": [
      "KeyError: key \"rateA\" not found",
      "",
      "Stacktrace:",
      " [1] getindex(::Dict{String,Any}, ::String) at .\\dict.jl:477",
      " [2] macro expansion at C:\\Users\\abhij\\.julia\\packages\\MutableArithmetics\\ZGFsK\\src\\rewrite.jl:227 [inlined]",
      " [3] macro expansion at C:\\Users\\abhij\\.julia\\packages\\JuMP\\MnJQc\\src\\macros.jl:381 [inlined]",
      " [4] minimize_load_shed(::Dict{String,Any}, ::MathOptInterface.OptimizerWithAttributes) at .\\In[7]:51",
      " [5] top-level scope at .\\In[8]:10"
     ]
    }
   ],
   "source": [
    "#main program \n",
    "case_data = PowerModels.parse_file(\"matpower/case14.m\")\n",
    "nlp_solver = with_optimizer(Ipopt.Optimizer, print_level=0)\n",
    "#res = minimize_load_shed(case_data, nlp_solver)\n",
    "\n",
    "for (i,gen) in case_data[\"gen\"]\n",
    "        # remove the generator\n",
    "        gen[\"gen_status\"] = 0\n",
    "        println(\"gen $(i) out:\")\n",
    "        res = minimize_load_shed(case_data, nlp_solver)\n",
    "        \n",
    "        println(\"Total Load Shed: \\$\", res.loadshed)\n",
    "        println(\" Load shed: \", res.soln, \" MW\")\n",
    "        println(\"New Gen: \", res.new_gen, \"MW\")\n",
    "        println(\"Theta: \", res.theta)\n",
    "        println(\"Line Flow: \", res.line_flow)\n",
    "        println(\"Load: \", res.load)\n",
    "        # restore the generator\n",
    "        gen[\"gen_status\"] = 1\n",
    "end"
   ]
  },
  {
   "cell_type": "code",
   "execution_count": 17,
   "metadata": {},
   "outputs": [
    {
     "data": {
      "text/plain": [
       "build_tnep (generic function with 1 method)"
      ]
     },
     "execution_count": 17,
     "metadata": {},
     "output_type": "execute_result"
    }
   ],
   "source": [
    "#tnep\n",
    "function build_tnep(pm::AbstractPowerModel)\n",
    "    println(\"Abhijeet : build_tnep\")\n",
    "    variable_bus_voltage(pm)\n",
    "    variable_gen_power(pm)\n",
    "    variable_branch_power(pm)\n",
    "    variable_dcline_power(pm)\n",
    "\n",
    "    variable_ne_branch_indicator(pm)\n",
    "    variable_ne_branch_power(pm)\n",
    "    variable_ne_branch_voltage(pm)\n",
    "\n",
    "    objective_tnep_cost(pm)\n",
    "\n",
    "    constraint_model_voltage(pm)\n",
    "    constraint_ne_model_voltage(pm)\n",
    "\n",
    "    for i in ids(pm, :ref_buses)\n",
    "        constraint_theta_ref(pm, i)\n",
    "    end\n",
    "\n",
    "    for i in ids(pm, :bus)\n",
    "        constraint_ne_power_balance(pm, i)\n",
    "    end\n",
    "\n",
    "    for i in ids(pm, :branch)\n",
    "        constraint_ohms_yt_from(pm, i)\n",
    "        constraint_ohms_yt_to(pm, i)\n",
    "\n",
    "        constraint_voltage_angle_difference(pm, i)\n",
    "\n",
    "        constraint_thermal_limit_from(pm, i)\n",
    "        constraint_thermal_limit_to(pm, i)\n",
    "    end\n",
    "\n",
    "    for i in ids(pm, :ne_branch)\n",
    "        constraint_ne_ohms_yt_from(pm, i)\n",
    "        constraint_ne_ohms_yt_to(pm, i)\n",
    "\n",
    "        constraint_ne_voltage_angle_difference(pm, i)\n",
    "\n",
    "        constraint_ne_thermal_limit_from(pm, i)\n",
    "        constraint_ne_thermal_limit_to(pm, i)\n",
    "    end\n",
    "\n",
    "    for i in ids(pm, :dcline)\n",
    "        constraint_dcline_power_losses(pm, i)\n",
    "    end\n",
    "end\n"
   ]
  },
  {
   "cell_type": "code",
   "execution_count": 18,
   "metadata": {},
   "outputs": [
    {
     "data": {
      "text/plain": [
       "objective_tnep_cost"
      ]
     },
     "execution_count": 18,
     "metadata": {},
     "output_type": "execute_result"
    }
   ],
   "source": [
    "\"Cost of building branches\"\n",
    "function objective_tnep_cost(pm::AbstractPowerModel)\n",
    "    println(\"Abhijeet : objective_tnep_cost\")\n",
    "    return JuMP.@objective(pm.model, Min,\n",
    "        sum(\n",
    "            sum( branch[\"construction_cost\"]*var(pm, n, :branch_ne, i) for (i,branch) in nw_ref[:ne_branch] )\n",
    "        for (n, nw_ref) in nws(pm))\n",
    "    )\n",
    "end"
   ]
  },
  {
   "cell_type": "code",
   "execution_count": 19,
   "metadata": {},
   "outputs": [
    {
     "data": {
      "text/plain": [
       "ref_add_ne_branch! (generic function with 1 method)"
      ]
     },
     "execution_count": 19,
     "metadata": {},
     "output_type": "execute_result"
    }
   ],
   "source": [
    "function ref_add_ne_branch!(ref::Dict{Symbol,<:Any}, data::Dict{String,<:Any})\n",
    "    println(\"Abhijeet : ref_add_ne_branch\")\n",
    "    for (nw, nw_ref) in ref[:nw]\n",
    "        if !haskey(nw_ref, :ne_branch)\n",
    "            error(_LOGGER, \"required ne_branch data not found\")\n",
    "        end\n",
    "\n",
    "        nw_ref[:ne_branch] = Dict(x for x in nw_ref[:ne_branch] if (x.second[\"br_status\"] == 1 && x.second[\"f_bus\"] in keys(nw_ref[:bus]) && x.second[\"t_bus\"] in keys(nw_ref[:bus])))\n",
    "\n",
    "        nw_ref[:ne_arcs_from] = [(i,branch[\"f_bus\"],branch[\"t_bus\"]) for (i,branch) in nw_ref[:ne_branch]]\n",
    "        nw_ref[:ne_arcs_to]   = [(i,branch[\"t_bus\"],branch[\"f_bus\"]) for (i,branch) in nw_ref[:ne_branch]]\n",
    "        nw_ref[:ne_arcs] = [nw_ref[:ne_arcs_from]; nw_ref[:ne_arcs_to]]\n",
    "\n",
    "        ne_bus_arcs = Dict((i, []) for (i,bus) in nw_ref[:bus])\n",
    "        for (l,i,j) in nw_ref[:ne_arcs]\n",
    "            push!(ne_bus_arcs[i], (l,i,j))\n",
    "        end\n",
    "        nw_ref[:ne_bus_arcs] = ne_bus_arcs\n",
    "\n",
    "        if !haskey(nw_ref, :ne_buspairs)\n",
    "            ismc = haskey(nw_ref, :conductors)\n",
    "            cid = nw_ref[:conductor_ids]\n",
    "            nw_ref[:ne_buspairs] = calc_buspair_parameters(nw_ref[:bus], nw_ref[:ne_branch], cid, ismc)\n",
    "        end\n",
    "    end\n",
    "end"
   ]
  },
  {
   "cell_type": "code",
   "execution_count": 24,
   "metadata": {},
   "outputs": [
    {
     "data": {
      "text/plain": [
       "run_tnep_own (generic function with 1 method)"
      ]
     },
     "execution_count": 24,
     "metadata": {},
     "output_type": "execute_result"
    }
   ],
   "source": [
    "function run_tnep_own(file, model_type::Type, optimizer; kwargs...)\n",
    "    println(\"Abhijeet : run_tnep\")\n",
    "    return run_model(file, model_type, optimizer, build_tnep; ref_extensions=[ref_add_on_off_va_bounds!,ref_add_ne_branch!], kwargs...)\n",
    "end"
   ]
  },
  {
   "cell_type": "code",
   "execution_count": 25,
   "metadata": {},
   "outputs": [
    {
     "name": "stdout",
     "output_type": "stream",
     "text": [
      "Abhijeet : run_tnep\n",
      "\u001b[32m[info | PowerModels]: extending matpower format with data: ne_branch 3x15\u001b[39m\n",
      "\u001b[35m[warn | PowerModels]: the dc line model is not meant to be used bi-directionally when loss1 > 0, be careful interpreting the results as the dc line losses can now be negative. change loss1 to 0 to avoid this warning\u001b[39m\n",
      "\u001b[35m[warn | PowerModels]: the to bus voltage setpoint on dc line 1 does not match the value at bus 5\u001b[39m\n",
      "\u001b[32m[info | PowerModels]: removing 1 cost terms from generator 4: [4000.0, 0.0]\u001b[39m\n",
      "\u001b[32m[info | PowerModels]: removing 1 cost terms from generator 1: [1400.0, 0.0]\u001b[39m\n",
      "\u001b[32m[info | PowerModels]: removing 1 cost terms from generator 5: [1000.0, 0.0]\u001b[39m\n",
      "\u001b[32m[info | PowerModels]: removing 1 cost terms from generator 2: [1500.0, 0.0]\u001b[39m\n",
      "\u001b[32m[info | PowerModels]: removing 1 cost terms from generator 3: [3000.0, 0.0]\u001b[39m\n",
      "\u001b[32m[info | PowerModels]: removing 1 cost terms from dcline 1: [4000.0, 0.0]\u001b[39m\n",
      "Abhijeet : ref_add_ne_branch\n",
      "Abhijeet : build_tnep\n",
      "Abhijeet : objective_tnep_cost\n",
      "nl_solver   : MathOptInterface.OptimizerWithAttributes(Ipopt.Optimizer, Pair{MathOptInterface.AbstractOptimizerAttribute,Any}[MathOptInterface.RawParameter(\"print_level\") => 0])\n",
      "mip_solver  : MathOptInterface.OptimizerWithAttributes(Cbc.Optimizer, Pair{MathOptInterface.AbstractOptimizerAttribute,Any}[MathOptInterface.RawParameter(\"logLevel\") => 0])\n",
      "log_levels  : [:Options, :Table, :Info]\n",
      "\n",
      "#Variables: 22\n",
      "#IntBinVar: 3\n",
      "#Constraints: 37\n",
      "#Linear Constraints: 37\n",
      "#Quadratic Constraints: 0\n",
      "#NonLinear Constraints: 0\n",
      "Obj Sense: Min\n",
      "\n",
      "Start values are not feasible.\n",
      "Status of relaxation: LOCALLY_SOLVED\n",
      "Time for relaxation: 0.06699991226196289\n",
      "Relaxation Obj: 0.11737087487098885\n",
      "\n",
      "       MIPobj              NLPobj       Time \n",
      "=============================================\n"
     ]
    },
    {
     "name": "stderr",
     "output_type": "stream",
     "text": [
      "┌ Info: no explicit NLP constraints or objective provided using @NLconstraint or @NLobjective macros\n",
      "└ @ Juniper C:\\Users\\abhij\\.julia\\packages\\Juniper\\Hm6I1\\src\\MOI_wrapper\\MOI_wrapper.jl:346\n"
     ]
    },
    {
     "name": "stdout",
     "output_type": "stream",
     "text": [
      "       0.8826               0.0          0.0 \n",
      "\n",
      "FP: 0.07400012016296387 s\n",
      "FP: 1 round\n",
      "FP: Obj: 1.0\n",
      "\n",
      " ONodes   CLevel          Incumbent                   BestBound            Gap    Time   Restarts  GainGap  \n",
      "============================================================================================================\n",
      "    1       2                1.0                         0.12            88.26%   0.0       0         -     \n",
      "    0       3                1.0                         0.12             87.5%   0.1       -       84.7%   \n",
      "\n",
      "#branches: 2\n",
      "Obj: 0.9999999885189191\n"
     ]
    },
    {
     "data": {
      "text/plain": [
       "Dict{String,Any} with 8 entries:\n",
       "  \"solve_time\"         => 0.245\n",
       "  \"optimizer\"          => \"Juniper\"\n",
       "  \"termination_status\" => LOCALLY_SOLVED\n",
       "  \"dual_status\"        => FEASIBLE_POINT\n",
       "  \"primal_status\"      => FEASIBLE_POINT\n",
       "  \"objective\"          => 1.0\n",
       "  \"solution\"           => Dict{String,Any}(\"ne_branch\"=>Dict{String,Any}(\"1\"=>D…\n",
       "  \"objective_lb\"       => 1.0"
      ]
     },
     "execution_count": 25,
     "metadata": {},
     "output_type": "execute_result"
    }
   ],
   "source": [
    "\n",
    "using Cbc\n",
    "using Juniper\n",
    "optimizer = Juniper.Optimizer\n",
    "nl_solver= optimizer_with_attributes(Ipopt.Optimizer, \"print_level\" => 0)\n",
    "mip_solver = optimizer_with_attributes(Cbc.Optimizer, \"logLevel\" => 0)\n",
    "solver = optimizer_with_attributes(optimizer, \"nl_solver\"=>nl_solver, \"mip_solver\"=>mip_solver)\n",
    "\n",
    "result = run_tnep_own(\"matpower/case5_tnep.m\", DCMPPowerModel, solver)\n"
   ]
  },
  {
   "cell_type": "code",
   "execution_count": 27,
   "metadata": {},
   "outputs": [
    {
     "name": "stdout",
     "output_type": "stream",
     "text": [
      "0.0\n",
      "1.0\n",
      "0.9999999885189191\n"
     ]
    }
   ],
   "source": [
    "println(result[\"solution\"][\"ne_branch\"][\"1\"][\"built\"])\n",
    "println(result[\"solution\"][\"ne_branch\"][\"2\"][\"built\"])\n",
    "println(result[\"objective\"])"
   ]
  },
  {
   "cell_type": "code",
   "execution_count": 31,
   "metadata": {},
   "outputs": [
    {
     "name": "stdout",
     "output_type": "stream",
     "text": [
      "Abhijeet : run_tnep\n",
      "\u001b[32m[info | PowerModels]: extending matpower format with data: ne_branch 3x15\u001b[39m\n",
      "\u001b[35m[warn | PowerModels]: the dc line model is not meant to be used bi-directionally when loss1 > 0, be careful interpreting the results as the dc line losses can now be negative. change loss1 to 0 to avoid this warning\u001b[39m\n",
      "\u001b[35m[warn | PowerModels]: the to bus voltage setpoint on dc line 1 does not match the value at bus 5\u001b[39m\n",
      "\u001b[32m[info | PowerModels]: removing 1 cost terms from generator 4: [4000.0, 0.0]\u001b[39m\n",
      "\u001b[32m[info | PowerModels]: removing 1 cost terms from generator 1: [1400.0, 0.0]\u001b[39m\n",
      "\u001b[32m[info | PowerModels]: removing 1 cost terms from generator 5: [1000.0, 0.0]\u001b[39m\n",
      "\u001b[32m[info | PowerModels]: removing 1 cost terms from generator 2: [1500.0, 0.0]\u001b[39m\n",
      "\u001b[32m[info | PowerModels]: removing 1 cost terms from generator 3: [3000.0, 0.0]\u001b[39m\n",
      "\u001b[32m[info | PowerModels]: removing 1 cost terms from dcline 1: [4000.0, 0.0]\u001b[39m\n",
      "Abhijeet : ref_add_ne_branch\n",
      "Abhijeet : build_tnep\n",
      "Abhijeet : objective_tnep_cost\n",
      "nl_solver   : MathOptInterface.OptimizerWithAttributes(Ipopt.Optimizer, Pair{MathOptInterface.AbstractOptimizerAttribute,Any}[MathOptInterface.RawParameter(\"print_level\") => 0])\n",
      "mip_solver  : MathOptInterface.OptimizerWithAttributes(Cbc.Optimizer, Pair{MathOptInterface.AbstractOptimizerAttribute,Any}[MathOptInterface.RawParameter(\"logLevel\") => 0])\n",
      "log_levels  : [:Options, :Table, :Info]\n",
      "\n",
      "#Variables: 55\n",
      "#IntBinVar: 3\n",
      "#Constraints: 68\n",
      "#Linear Constraints: 20\n",
      "#Quadratic Constraints: 20\n",
      "#NonLinear Constraints: 28\n",
      "Obj Sense: Min\n",
      "\n",
      "Start values are not feasible.\n",
      "Status of relaxation: LOCALLY_SOLVED\n",
      "Time for relaxation: 2.003000020980835\n",
      "Relaxation Obj: 0.14457991638585385\n",
      "\n",
      "       MIPobj              NLPobj       Time \n",
      "=============================================\n",
      "       0.1446              0.0127        0.1 \n",
      "       0.9744               0.0          0.3 \n",
      "\n",
      "FP: 0.32899999618530273 s\n",
      "FP: 2 rounds\n",
      "FP: Obj: 1.0\n",
      "\n",
      " ONodes   CLevel          Incumbent                   BestBound            Gap    Time   Restarts  GainGap  \n",
      "============================================================================================================\n",
      "    1       2                1.0                         0.14            85.54%   0.1       0         -     \n",
      "    0       3                1.0                         0.2             80.33%   0.2       -       80.7%   \n",
      "\n",
      "#branches: 2\n",
      "Obj: 0.9999999818181818\n",
      "1.0\n",
      "0.0\n",
      "0.9999999818181818\n"
     ]
    }
   ],
   "source": [
    "result_ac = run_tnep_own(\"matpower/case5_tnep.m\",ACPPowerModel, solver)\n",
    "println(result_ac[\"solution\"][\"ne_branch\"][\"1\"][\"built\"])\n",
    "println(result_ac[\"solution\"][\"ne_branch\"][\"2\"][\"built\"])\n",
    "println(result_ac[\"objective\"])\n"
   ]
  },
  {
   "cell_type": "code",
   "execution_count": null,
   "metadata": {},
   "outputs": [],
   "source": []
  }
 ],
 "metadata": {
  "kernelspec": {
   "display_name": "Julia 1.4.2",
   "language": "julia",
   "name": "julia-1.4"
  },
  "language_info": {
   "file_extension": ".jl",
   "mimetype": "application/julia",
   "name": "julia",
   "version": "1.4.2"
  }
 },
 "nbformat": 4,
 "nbformat_minor": 4
}
