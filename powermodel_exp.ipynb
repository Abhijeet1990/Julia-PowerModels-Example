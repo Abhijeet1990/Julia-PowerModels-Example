{
 "cells": [
  {
   "cell_type": "code",
   "execution_count": 2,
   "metadata": {},
   "outputs": [
    {
     "name": "stderr",
     "output_type": "stream",
     "text": [
      "┌ Info: Precompiling PowerModels [c36e90e8-916a-50a6-bd94-075b64ef4655]\n",
      "└ @ Base loading.jl:1260\n",
      "┌ Warning: `with_optimizer` is deprecated. Adapt the following example to update your code:\n",
      "│ `with_optimizer(Ipopt.Optimizer)` becomes `Ipopt.Optimizer`.\n",
      "│   caller = top-level scope at In[2]:3\n",
      "└ @ Core In[2]:3\n"
     ]
    },
    {
     "name": "stdout",
     "output_type": "stream",
     "text": [
      "\u001b[32m[info | PowerModels]: extending matpower format with constant data: const_int\u001b[39m\n",
      "\u001b[32m[info | PowerModels]: extending matpower format with constant data: const_float\u001b[39m\n",
      "\u001b[32m[info | PowerModels]: extending matpower format with data: bus_data 3x3\u001b[39m\n",
      "\u001b[32m[info | PowerModels]: extending matpower format with data: branch_names 3x3\u001b[39m\n",
      "\u001b[32m[info | PowerModels]: extending matpower format with data: areas_cells 2x6\u001b[39m\n",
      "\u001b[32m[info | PowerModels]: extending matpower format with data: areas_named_cells 2x6\u001b[39m\n",
      "\u001b[32m[info | PowerModels]: extending matpower format with data: areas_named 2x3\u001b[39m\n",
      "\u001b[32m[info | PowerModels]: extending matpower format with data: component 1x3\u001b[39m\n",
      "\u001b[32m[info | PowerModels]: extending matpower format with data: areas 2x3\u001b[39m\n",
      "\u001b[32m[info | PowerModels]: extending matpower format with constant data: const_str\u001b[39m\n",
      "\u001b[32m[info | PowerModels]: extending matpower format with data: load_data 2x2\u001b[39m\n",
      "\u001b[32m[info | PowerModels]: extending matpower format with data: branch_limit 3x3\u001b[39m\n",
      "\u001b[35m[warn | PowerModels]: added zero cost function data for dclines\u001b[39m\n",
      "\u001b[32m[info | PowerModels]: extending matpower format by appending matrix \"branch_limit\" in to \"branch\"\u001b[39m\n",
      "\u001b[32m[info | PowerModels]: extending matpower format by appending matrix \"branch_names\" in to \"branch\"\u001b[39m\n",
      "\u001b[32m[info | PowerModels]: extending matpower format by appending matrix \"bus_data\" in to \"bus\"\u001b[39m\n",
      "\u001b[35m[warn | PowerModels]: no reference bus found\u001b[39m\n",
      "\u001b[35m[warn | PowerModels]: no reference bus found, setting bus 1 as reference based on generator 1\u001b[39m\n",
      "\u001b[32m[info | PowerModels]: removing 3 cost terms from generator 3: Float64[]\u001b[39m\n",
      "\u001b[32m[info | PowerModels]: removing 3 cost terms from dcline 1: Float64[]\u001b[39m\n",
      "\n",
      "******************************************************************************\n",
      "This program contains Ipopt, a library for large-scale nonlinear optimization.\n",
      " Ipopt is released as open source code under the Eclipse Public License (EPL).\n",
      "         For more information visit http://projects.coin-or.org/Ipopt\n",
      "******************************************************************************\n",
      "\n",
      "This is Ipopt version 3.13.2, running with linear solver mumps.\n",
      "NOTE: Other linear solvers might be more efficient (see Ipopt documentation).\n",
      "\n",
      "Number of nonzeros in equality constraint Jacobian...:       84\n",
      "Number of nonzeros in inequality constraint Jacobian.:       24\n",
      "Number of nonzeros in Lagrangian Hessian.............:      134\n",
      "\n",
      "Total number of variables............................:       27\n",
      "                     variables with only lower bounds:        0\n",
      "                variables with lower and upper bounds:       24\n",
      "                     variables with only upper bounds:        0\n",
      "Total number of equality constraints.................:       20\n",
      "Total number of inequality constraints...............:       12\n",
      "        inequality constraints with only lower bounds:        3\n",
      "   inequality constraints with lower and upper bounds:        0\n",
      "        inequality constraints with only upper bounds:        9\n",
      "\n",
      "iter    objective    inf_pr   inf_du lg(mu)  ||d||  lg(rg) alpha_du alpha_pr  ls\n",
      "   0  6.3949934e+00 1.20e+00 2.46e+01  -1.0 0.00e+00    -  0.00e+00 0.00e+00   0\n",
      "   1  1.9678875e+03 5.36e-01 1.04e+02  -1.0 1.80e+00    -  5.78e-03 5.54e-01h  1\n",
      "   2  3.9189542e+03 2.21e-01 4.33e+01  -1.0 8.67e-01    -  7.86e-01 5.87e-01h  1\n",
      "   3  4.0838932e+03 1.99e-01 3.91e+01  -1.0 3.28e-01    -  9.90e-01 1.01e-01h  1\n",
      "   4  4.6246921e+03 1.30e-01 3.00e+01  -1.0 3.88e-01    -  3.99e-01 3.44e-01h  1\n",
      "   5  5.3156503e+03 5.15e-02 6.92e+01  -1.0 3.39e-01    -  1.00e+00 6.05e-01h  1\n",
      "   6  5.3292409e+03 5.01e-02 3.46e+02  -1.0 1.37e-01    -  6.54e-01 2.77e-02h  1\n",
      "   7  5.5205184e+03 3.21e-02 1.94e+02  -1.0 1.96e-01    -  2.39e-01 3.60e-01h  1\n",
      "   8  5.8348400e+03 5.52e-03 5.79e+01  -1.0 1.41e-01    -  4.69e-01 8.28e-01h  1\n",
      "   9  5.9095426e+03 6.11e-05 1.03e+00  -1.0 2.72e-02    -  1.00e+00 1.00e+00h  1\n",
      "iter    objective    inf_pr   inf_du lg(mu)  ||d||  lg(rg) alpha_du alpha_pr  ls\n",
      "  10  5.9074933e+03 1.06e-06 9.33e-03  -1.7 1.93e-03    -  1.00e+00 1.00e+00f  1\n",
      "  11  5.9068856e+03 1.67e-07 3.76e-04  -3.8 7.76e-04    -  1.00e+00 1.00e+00f  1\n",
      "  12  5.9068795e+03 3.04e-11 5.44e-08  -5.7 1.12e-05    -  1.00e+00 1.00e+00h  1\n",
      "  13  5.9068794e+03 1.07e-15 2.99e-12  -8.6 6.80e-08    -  1.00e+00 1.00e+00h  1\n",
      "\n",
      "Number of Iterations....: 13\n",
      "\n",
      "                                   (scaled)                 (unscaled)\n",
      "Objective...............:   1.1813758833436352e+03    5.9068794167181759e+03\n",
      "Dual infeasibility......:   2.9935758775353452e-12    1.4967879387676726e-11\n",
      "Constraint violation....:   1.0685896612017132e-15    1.0685896612017132e-15\n",
      "Complementarity.........:   2.5073461206267797e-09    1.2536730603133898e-08\n",
      "Overall NLP error.......:   2.5073461206267797e-09    1.2536730603133898e-08\n",
      "\n",
      "\n",
      "Number of objective function evaluations             = 14\n",
      "Number of objective gradient evaluations             = 14\n",
      "Number of equality constraint evaluations            = 14\n",
      "Number of inequality constraint evaluations          = 14\n",
      "Number of equality constraint Jacobian evaluations   = 14\n",
      "Number of inequality constraint Jacobian evaluations = 14\n",
      "Number of Lagrangian Hessian evaluations             = 13\n",
      "Total CPU secs in IPOPT (w/o function evaluations)   =      1.473\n",
      "Total CPU secs in NLP function evaluations           =      1.792\n",
      "\n",
      "EXIT: Optimal Solution Found.\n"
     ]
    },
    {
     "data": {
      "text/plain": [
       "Dict{String,Any} with 8 entries:\n",
       "  \"solve_time\"         => 4.241\n",
       "  \"optimizer\"          => \"Ipopt\"\n",
       "  \"termination_status\" => LOCALLY_SOLVED\n",
       "  \"dual_status\"        => FEASIBLE_POINT\n",
       "  \"primal_status\"      => FEASIBLE_POINT\n",
       "  \"objective\"          => 5906.88\n",
       "  \"solution\"           => Dict{String,Any}(\"dcline\"=>Dict{String,Any}(\"1\"=>Dict…\n",
       "  \"objective_lb\"       => -Inf"
      ]
     },
     "execution_count": 2,
     "metadata": {},
     "output_type": "execute_result"
    }
   ],
   "source": [
    "using PowerModels\n",
    "using Ipopt\n",
    "\n",
    "run_ac_opf(\"matpower/case3.m\", with_optimizer(Ipopt.Optimizer))"
   ]
  },
  {
   "cell_type": "code",
   "execution_count": 3,
   "metadata": {},
   "outputs": [
    {
     "name": "stdout",
     "output_type": "stream",
     "text": [
      "\u001b[32m[info | PowerModels]: extending matpower format with constant data: const_int\u001b[39m\n",
      "\u001b[32m[info | PowerModels]: extending matpower format with constant data: const_float\u001b[39m\n",
      "\u001b[32m[info | PowerModels]: extending matpower format with data: bus_data 3x3\u001b[39m\n",
      "\u001b[32m[info | PowerModels]: extending matpower format with data: branch_names 3x3\u001b[39m\n",
      "\u001b[32m[info | PowerModels]: extending matpower format with data: areas_cells 2x6\u001b[39m\n",
      "\u001b[32m[info | PowerModels]: extending matpower format with data: areas_named_cells 2x6\u001b[39m\n",
      "\u001b[32m[info | PowerModels]: extending matpower format with data: areas_named 2x3\u001b[39m\n",
      "\u001b[32m[info | PowerModels]: extending matpower format with data: component 1x3\u001b[39m\n",
      "\u001b[32m[info | PowerModels]: extending matpower format with data: areas 2x3\u001b[39m\n",
      "\u001b[32m[info | PowerModels]: extending matpower format with constant data: const_str\u001b[39m\n",
      "\u001b[32m[info | PowerModels]: extending matpower format with data: load_data 2x2\u001b[39m\n",
      "\u001b[32m[info | PowerModels]: extending matpower format with data: branch_limit 3x3\u001b[39m\n",
      "\u001b[35m[warn | PowerModels]: added zero cost function data for dclines\u001b[39m\n",
      "\u001b[32m[info | PowerModels]: extending matpower format by appending matrix \"branch_limit\" in to \"branch\"\u001b[39m\n",
      "\u001b[32m[info | PowerModels]: extending matpower format by appending matrix \"branch_names\" in to \"branch\"\u001b[39m\n",
      "\u001b[32m[info | PowerModels]: extending matpower format by appending matrix \"bus_data\" in to \"bus\"\u001b[39m\n",
      "\u001b[35m[warn | PowerModels]: no reference bus found\u001b[39m\n",
      "\u001b[35m[warn | PowerModels]: no reference bus found, setting bus 1 as reference based on generator 1\u001b[39m\n",
      "\u001b[32m[info | PowerModels]: removing 3 cost terms from generator 3: Float64[]\u001b[39m\n",
      "\u001b[32m[info | PowerModels]: removing 3 cost terms from dcline 1: Float64[]\u001b[39m\n"
     ]
    },
    {
     "name": "stderr",
     "output_type": "stream",
     "text": [
      "┌ Warning: `with_optimizer` is deprecated. Adapt the following example to update your code:\n",
      "│ `with_optimizer(Ipopt.Optimizer)` becomes `Ipopt.Optimizer`.\n",
      "│   caller = top-level scope at In[3]:2\n",
      "└ @ Core In[3]:2\n"
     ]
    },
    {
     "name": "stdout",
     "output_type": "stream",
     "text": [
      "Academic license - for non-commercial use only\r\n",
      "Academic license - for non-commercial use only\r\n"
     ]
    },
    {
     "ename": "ErrorException",
     "evalue": "The solver does not support nonlinear problems (i.e., NLobjective and NLconstraint).",
     "output_type": "error",
     "traceback": [
      "The solver does not support nonlinear problems (i.e., NLobjective and NLconstraint).",
      "",
      "Stacktrace:",
      " [1] error(::String) at .\\error.jl:33",
      " [2] optimize!(::JuMP.Model, ::Nothing; bridge_constraints::Bool, ignore_optimize_hook::Bool, kwargs::Base.Iterators.Pairs{Union{},Union{},Tuple{},NamedTuple{(),Tuple{}}}) at C:\\Users\\abhij\\.julia\\packages\\JuMP\\MnJQc\\src\\optimizer_interface.jl:137",
      " [3] optimize! at C:\\Users\\abhij\\.julia\\packages\\JuMP\\MnJQc\\src\\optimizer_interface.jl:107 [inlined] (repeats 2 times)",
      " [4] macro expansion at .\\util.jl:308 [inlined]",
      " [5] optimize_model!(::ACPPowerModel; optimizer::Type{T} where T, solution_processors::Array{Any,1}) at C:\\Users\\abhij\\.julia\\packages\\InfrastructureModels\\hOHgW\\src\\core\\base.jl:232",
      " [6] run_model(::Dict{String,Any}, ::Type{T} where T, ::Type{T} where T, ::typeof(build_opf); ref_extensions::Array{Any,1}, solution_processors::Array{Any,1}, multinetwork::Bool, multiconductor::Bool, kwargs::Base.Iterators.Pairs{Union{},Union{},Tuple{},NamedTuple{(),Tuple{}}}) at C:\\Users\\abhij\\.julia\\packages\\PowerModels\\fEPoB\\src\\core\\base.jl:45",
      " [7] run_model(::Dict{String,Any}, ::Type{T} where T, ::Type{T} where T, ::Function) at C:\\Users\\abhij\\.julia\\packages\\PowerModels\\fEPoB\\src\\core\\base.jl:32",
      " [8] run_model(::String, ::Type{T} where T, ::Type{T} where T, ::Function; kwargs::Base.Iterators.Pairs{Union{},Union{},Tuple{},NamedTuple{(),Tuple{}}}) at C:\\Users\\abhij\\.julia\\packages\\PowerModels\\fEPoB\\src\\core\\base.jl:27",
      " [9] run_model at C:\\Users\\abhij\\.julia\\packages\\PowerModels\\fEPoB\\src\\core\\base.jl:26 [inlined]",
      " [10] #run_opf#972 at C:\\Users\\abhij\\.julia\\packages\\PowerModels\\fEPoB\\src\\prob\\opf.jl:13 [inlined]",
      " [11] run_opf at C:\\Users\\abhij\\.julia\\packages\\PowerModels\\fEPoB\\src\\prob\\opf.jl:13 [inlined]",
      " [12] #run_ac_opf#970 at C:\\Users\\abhij\\.julia\\packages\\PowerModels\\fEPoB\\src\\prob\\opf.jl:3 [inlined]",
      " [13] run_ac_opf(::String, ::Type{T} where T) at C:\\Users\\abhij\\.julia\\packages\\PowerModels\\fEPoB\\src\\prob\\opf.jl:3",
      " [14] top-level scope at In[3]:2"
     ]
    }
   ],
   "source": [
    "using Gurobi\n",
    "run_ac_opf(\"matpower/case3.m\", with_optimizer(Gurobi.Optimizer))"
   ]
  },
  {
   "cell_type": "code",
   "execution_count": null,
   "metadata": {},
   "outputs": [],
   "source": []
  }
 ],
 "metadata": {
  "kernelspec": {
   "display_name": "Julia 1.4.2",
   "language": "julia",
   "name": "julia-1.4"
  },
  "language_info": {
   "file_extension": ".jl",
   "mimetype": "application/julia",
   "name": "julia",
   "version": "1.4.2"
  }
 },
 "nbformat": 4,
 "nbformat_minor": 4
}
